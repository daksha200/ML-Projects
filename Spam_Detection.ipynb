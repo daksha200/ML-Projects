{
  "nbformat": 4,
  "nbformat_minor": 0,
  "metadata": {
    "colab": {
      "name": "Spam_Detection.ipynb",
      "provenance": [],
      "authorship_tag": "ABX9TyOs+DhuzodLuXRQcqg4buhM",
      "include_colab_link": true
    },
    "kernelspec": {
      "name": "python3",
      "display_name": "Python 3"
    },
    "language_info": {
      "name": "python"
    }
  },
  "cells": [
    {
      "cell_type": "markdown",
      "metadata": {
        "id": "view-in-github",
        "colab_type": "text"
      },
      "source": [
        "<a href=\"https://colab.research.google.com/github/daksha200/ML-Projects/blob/testrepo/Spam_Detection.ipynb\" target=\"_parent\"><img src=\"https://colab.research.google.com/assets/colab-badge.svg\" alt=\"Open In Colab\"/></a>"
      ]
    },
    {
      "cell_type": "markdown",
      "source": [
        "Detecting spam alerts in emails and messages is one of the main applications that every big tech company tries to improve for its customers. Apple’s official messaging app and Google’s Gmail are great examples of such applications where spam detection works well to protect users from spam alerts."
      ],
      "metadata": {
        "id": "GoaYWLUoiHkg"
      }
    },
    {
      "cell_type": "markdown",
      "source": [
        "Whenever you submit details about your email or contact number on any platform, it has become easy for those platforms to market their products by advertising them by sending emails or by sending messages directly to your contact number. This results in lots of spam alerts and notifications in your inbox. This is where the task of spam detection comes in.\n",
        "\n",
        "Spam detection means detecting spam messages or emails by understanding text content so that you can only receive notifications about messages or emails that are very important to you. If spam messages are found, they are automatically transferred to a spam folder and you are never notified of such alerts. This helps to improve the user experience, as many spam alerts can bother many users."
      ],
      "metadata": {
        "id": "kCy-IBZfiTqb"
      }
    },
    {
      "cell_type": "code",
      "execution_count": 2,
      "metadata": {
        "colab": {
          "base_uri": "https://localhost:8080/"
        },
        "id": "uilfabM7hxwC",
        "outputId": "4b470063-dbf5-4016-9d78-de4d59f52265"
      },
      "outputs": [
        {
          "output_type": "stream",
          "name": "stdout",
          "text": [
            "  class                                            message Unnamed: 2  \\\n",
            "0   ham  Go until jurong point, crazy.. Available only ...        NaN   \n",
            "1   ham                      Ok lar... Joking wif u oni...        NaN   \n",
            "2  spam  Free entry in 2 a wkly comp to win FA Cup fina...        NaN   \n",
            "3   ham  U dun say so early hor... U c already then say...        NaN   \n",
            "4   ham  Nah I don't think he goes to usf, he lives aro...        NaN   \n",
            "\n",
            "  Unnamed: 3 Unnamed: 4  \n",
            "0        NaN        NaN  \n",
            "1        NaN        NaN  \n",
            "2        NaN        NaN  \n",
            "3        NaN        NaN  \n",
            "4        NaN        NaN  \n"
          ]
        }
      ],
      "source": [
        "import pandas as pd\n",
        "import numpy as np\n",
        "from sklearn.feature_extraction.text import CountVectorizer\n",
        "from sklearn.model_selection import train_test_split\n",
        "from sklearn.naive_bayes import MultinomialNB\n",
        "\n",
        "data = pd.read_csv(\"/content/sample_data/spam.csv\", encoding='latin-1')\n",
        "\n",
        "print(data.head())"
      ]
    },
    {
      "cell_type": "markdown",
      "source": [
        "From this dataset, class and message are the only features we need to train a machine learning model for spam detection, so let’s select these two columns as the new dataset:"
      ],
      "metadata": {
        "id": "t1SQu6pSjYFI"
      }
    },
    {
      "cell_type": "code",
      "source": [
        "data = data[[\"class\",\"message\"]]"
      ],
      "metadata": {
        "id": "_HhRL9V-jCgv"
      },
      "execution_count": 6,
      "outputs": []
    },
    {
      "cell_type": "markdown",
      "source": [
        "Now let’s split this dataset into training and test sets and train the model to detect spam messages:"
      ],
      "metadata": {
        "id": "D-oPj-kfjvsK"
      }
    },
    {
      "cell_type": "code",
      "source": [
        "x = np.array(data[\"message\"])\n",
        "y = np.array(data[\"class\"])\n",
        "cv = CountVectorizer()\n",
        "X = cv.fit_transform(x) # Fit the Data\n",
        "X_train, X_test, y_train, y_test = train_test_split(X, y, test_size=0.33, random_state=42)\n",
        "\n",
        "clf = MultinomialNB()\n",
        "clf.fit(X_train,y_train)"
      ],
      "metadata": {
        "colab": {
          "base_uri": "https://localhost:8080/"
        },
        "id": "BpyAI_ezjtL8",
        "outputId": "0b8c9808-5387-4bb5-826e-a1e886e84c16"
      },
      "execution_count": 7,
      "outputs": [
        {
          "output_type": "execute_result",
          "data": {
            "text/plain": [
              "MultinomialNB()"
            ]
          },
          "metadata": {},
          "execution_count": 7
        }
      ]
    },
    {
      "cell_type": "markdown",
      "source": [
        "Now let’s test this model by taking a user input as a message to detect whether it is spam or not:"
      ],
      "metadata": {
        "id": "fZzfAscFj3f1"
      }
    },
    {
      "cell_type": "code",
      "source": [
        "sample = input('Enter a message:')\n",
        "data = cv.transform([sample]).toarray()\n",
        "print(clf.predict(data))"
      ],
      "metadata": {
        "colab": {
          "base_uri": "https://localhost:8080/"
        },
        "id": "03BTrxoGkMIA",
        "outputId": "bc1ec78b-71aa-4a5b-c6b4-46d2bd65b1ef"
      },
      "execution_count": 9,
      "outputs": [
        {
          "output_type": "stream",
          "name": "stdout",
          "text": [
            "Enter a message:you won $30\n",
            "['ham']\n"
          ]
        }
      ]
    },
    {
      "cell_type": "code",
      "source": [
        "sample = input('Enter a message:')\n",
        "data = cv.transform([sample]).toarray()\n",
        "print(clf.predict(data))"
      ],
      "metadata": {
        "colab": {
          "base_uri": "https://localhost:8080/"
        },
        "id": "UqaX1Z2gkX5i",
        "outputId": "2312903e-6689-4a5f-f5e6-8c4c328e3aa9"
      },
      "execution_count": 10,
      "outputs": [
        {
          "output_type": "stream",
          "name": "stdout",
          "text": [
            "Enter a message:Free entry with family\n",
            "['spam']\n"
          ]
        }
      ]
    }
  ]
}