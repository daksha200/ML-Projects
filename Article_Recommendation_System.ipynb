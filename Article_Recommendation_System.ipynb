{
  "nbformat": 4,
  "nbformat_minor": 0,
  "metadata": {
    "colab": {
      "name": "Article_Recommendation_System.ipynb",
      "provenance": [],
      "authorship_tag": "ABX9TyMy922H6kniNuf9mg7q1qRS",
      "include_colab_link": true
    },
    "kernelspec": {
      "name": "python3",
      "display_name": "Python 3"
    },
    "language_info": {
      "name": "python"
    }
  },
  "cells": [
    {
      "cell_type": "markdown",
      "metadata": {
        "id": "view-in-github",
        "colab_type": "text"
      },
      "source": [
        "<a href=\"https://colab.research.google.com/github/daksha200/ML-Projects/blob/testrepo/Article_Recommendation_System.ipynb\" target=\"_parent\"><img src=\"https://colab.research.google.com/assets/colab-badge.svg\" alt=\"Open In Colab\"/></a>"
      ]
    },
    {
      "cell_type": "markdown",
      "source": [
        "A recommendation system is one of the applications of data science that is used by almost any application or website today. Many websites today use a recommendation system to recommend articles to their readers."
      ],
      "metadata": {
        "id": "KZpDYS4JP9vd"
      }
    },
    {
      "cell_type": "markdown",
      "source": [
        "There are many ways to create recommendation systems. To create an articles recommendation system, we need to focus on content rather than user interest. For example, if a user reads an article based on clustering, all recommended articles should also be based on clustering. So to recommend articles based on the content:\n",
        "\n",
        "1. we need to understand the content of the article\n",
        "2. match the content with all the other articles\n",
        "3. and recommend the most suitable articles for the article that the reader is already reading"
      ],
      "metadata": {
        "id": "tnKsUYksQD5C"
      }
    },
    {
      "cell_type": "markdown",
      "source": [
        "For this task, we can use the concept of cosine similarity in machine learning. Cosine similarity is a method of building recommendation systems based on the content. It is used to find similarities between two different pieces of text documents. So we can use cosine similarity to build an article recommendation system."
      ],
      "metadata": {
        "id": "kSoTZL0lQQ1M"
      }
    },
    {
      "cell_type": "code",
      "execution_count": 3,
      "metadata": {
        "colab": {
          "base_uri": "https://localhost:8080/",
          "height": 206
        },
        "id": "2NFV1VI1PsQo",
        "outputId": "cf33f09a-9a91-4a0e-97c9-e83174b06f31"
      },
      "outputs": [
        {
          "output_type": "execute_result",
          "data": {
            "text/plain": [
              "                                             Article  \\\n",
              "0  Data analysis is the process of inspecting and...   \n",
              "1  The performance of a machine learning algorith...   \n",
              "2  You must have seen the news divided into categ...   \n",
              "3  When there are only two classes in a classific...   \n",
              "4  The Multinomial Naive Bayes is one of the vari...   \n",
              "\n",
              "                                               Title  \n",
              "0                  Best Books to Learn Data Analysis  \n",
              "1         Assumptions of Machine Learning Algorithms  \n",
              "2          News Classification with Machine Learning  \n",
              "3  Multiclass Classification Algorithms in Machin...  \n",
              "4        Multinomial Naive Bayes in Machine Learning  "
            ],
            "text/html": [
              "\n",
              "  <div id=\"df-d728b990-d9a4-4050-bd6c-935ace483e47\">\n",
              "    <div class=\"colab-df-container\">\n",
              "      <div>\n",
              "<style scoped>\n",
              "    .dataframe tbody tr th:only-of-type {\n",
              "        vertical-align: middle;\n",
              "    }\n",
              "\n",
              "    .dataframe tbody tr th {\n",
              "        vertical-align: top;\n",
              "    }\n",
              "\n",
              "    .dataframe thead th {\n",
              "        text-align: right;\n",
              "    }\n",
              "</style>\n",
              "<table border=\"1\" class=\"dataframe\">\n",
              "  <thead>\n",
              "    <tr style=\"text-align: right;\">\n",
              "      <th></th>\n",
              "      <th>Article</th>\n",
              "      <th>Title</th>\n",
              "    </tr>\n",
              "  </thead>\n",
              "  <tbody>\n",
              "    <tr>\n",
              "      <th>0</th>\n",
              "      <td>Data analysis is the process of inspecting and...</td>\n",
              "      <td>Best Books to Learn Data Analysis</td>\n",
              "    </tr>\n",
              "    <tr>\n",
              "      <th>1</th>\n",
              "      <td>The performance of a machine learning algorith...</td>\n",
              "      <td>Assumptions of Machine Learning Algorithms</td>\n",
              "    </tr>\n",
              "    <tr>\n",
              "      <th>2</th>\n",
              "      <td>You must have seen the news divided into categ...</td>\n",
              "      <td>News Classification with Machine Learning</td>\n",
              "    </tr>\n",
              "    <tr>\n",
              "      <th>3</th>\n",
              "      <td>When there are only two classes in a classific...</td>\n",
              "      <td>Multiclass Classification Algorithms in Machin...</td>\n",
              "    </tr>\n",
              "    <tr>\n",
              "      <th>4</th>\n",
              "      <td>The Multinomial Naive Bayes is one of the vari...</td>\n",
              "      <td>Multinomial Naive Bayes in Machine Learning</td>\n",
              "    </tr>\n",
              "  </tbody>\n",
              "</table>\n",
              "</div>\n",
              "      <button class=\"colab-df-convert\" onclick=\"convertToInteractive('df-d728b990-d9a4-4050-bd6c-935ace483e47')\"\n",
              "              title=\"Convert this dataframe to an interactive table.\"\n",
              "              style=\"display:none;\">\n",
              "        \n",
              "  <svg xmlns=\"http://www.w3.org/2000/svg\" height=\"24px\"viewBox=\"0 0 24 24\"\n",
              "       width=\"24px\">\n",
              "    <path d=\"M0 0h24v24H0V0z\" fill=\"none\"/>\n",
              "    <path d=\"M18.56 5.44l.94 2.06.94-2.06 2.06-.94-2.06-.94-.94-2.06-.94 2.06-2.06.94zm-11 1L8.5 8.5l.94-2.06 2.06-.94-2.06-.94L8.5 2.5l-.94 2.06-2.06.94zm10 10l.94 2.06.94-2.06 2.06-.94-2.06-.94-.94-2.06-.94 2.06-2.06.94z\"/><path d=\"M17.41 7.96l-1.37-1.37c-.4-.4-.92-.59-1.43-.59-.52 0-1.04.2-1.43.59L10.3 9.45l-7.72 7.72c-.78.78-.78 2.05 0 2.83L4 21.41c.39.39.9.59 1.41.59.51 0 1.02-.2 1.41-.59l7.78-7.78 2.81-2.81c.8-.78.8-2.07 0-2.86zM5.41 20L4 18.59l7.72-7.72 1.47 1.35L5.41 20z\"/>\n",
              "  </svg>\n",
              "      </button>\n",
              "      \n",
              "  <style>\n",
              "    .colab-df-container {\n",
              "      display:flex;\n",
              "      flex-wrap:wrap;\n",
              "      gap: 12px;\n",
              "    }\n",
              "\n",
              "    .colab-df-convert {\n",
              "      background-color: #E8F0FE;\n",
              "      border: none;\n",
              "      border-radius: 50%;\n",
              "      cursor: pointer;\n",
              "      display: none;\n",
              "      fill: #1967D2;\n",
              "      height: 32px;\n",
              "      padding: 0 0 0 0;\n",
              "      width: 32px;\n",
              "    }\n",
              "\n",
              "    .colab-df-convert:hover {\n",
              "      background-color: #E2EBFA;\n",
              "      box-shadow: 0px 1px 2px rgba(60, 64, 67, 0.3), 0px 1px 3px 1px rgba(60, 64, 67, 0.15);\n",
              "      fill: #174EA6;\n",
              "    }\n",
              "\n",
              "    [theme=dark] .colab-df-convert {\n",
              "      background-color: #3B4455;\n",
              "      fill: #D2E3FC;\n",
              "    }\n",
              "\n",
              "    [theme=dark] .colab-df-convert:hover {\n",
              "      background-color: #434B5C;\n",
              "      box-shadow: 0px 1px 3px 1px rgba(0, 0, 0, 0.15);\n",
              "      filter: drop-shadow(0px 1px 2px rgba(0, 0, 0, 0.3));\n",
              "      fill: #FFFFFF;\n",
              "    }\n",
              "  </style>\n",
              "\n",
              "      <script>\n",
              "        const buttonEl =\n",
              "          document.querySelector('#df-d728b990-d9a4-4050-bd6c-935ace483e47 button.colab-df-convert');\n",
              "        buttonEl.style.display =\n",
              "          google.colab.kernel.accessAllowed ? 'block' : 'none';\n",
              "\n",
              "        async function convertToInteractive(key) {\n",
              "          const element = document.querySelector('#df-d728b990-d9a4-4050-bd6c-935ace483e47');\n",
              "          const dataTable =\n",
              "            await google.colab.kernel.invokeFunction('convertToInteractive',\n",
              "                                                     [key], {});\n",
              "          if (!dataTable) return;\n",
              "\n",
              "          const docLinkHtml = 'Like what you see? Visit the ' +\n",
              "            '<a target=\"_blank\" href=https://colab.research.google.com/notebooks/data_table.ipynb>data table notebook</a>'\n",
              "            + ' to learn more about interactive tables.';\n",
              "          element.innerHTML = '';\n",
              "          dataTable['output_type'] = 'display_data';\n",
              "          await google.colab.output.renderOutput(dataTable, element);\n",
              "          const docLink = document.createElement('div');\n",
              "          docLink.innerHTML = docLinkHtml;\n",
              "          element.appendChild(docLink);\n",
              "        }\n",
              "      </script>\n",
              "    </div>\n",
              "  </div>\n",
              "  "
            ]
          },
          "metadata": {},
          "execution_count": 3
        }
      ],
      "source": [
        "import pandas as pd\n",
        "import numpy as np\n",
        "from sklearn.feature_extraction import text\n",
        "from sklearn.metrics.pairwise import cosine_similarity\n",
        "\n",
        "df = pd.read_csv(\"/content/sample_data/articles.csv\", encoding='latin1')\n",
        "df.head()"
      ]
    },
    {
      "cell_type": "markdown",
      "source": [
        "This dataset is completely ready to use to create a recommender system, so let’s use the cosine similarity algorithm and write a Python function to recommend articles:"
      ],
      "metadata": {
        "id": "C10kKBg4RlZQ"
      }
    },
    {
      "cell_type": "code",
      "source": [
        "articles = df[\"Article\"].tolist()\n",
        "uni_tfidf = text.TfidfVectorizer(input=articles, stop_words=\"english\")\n",
        "uni_matrix = uni_tfidf.fit_transform(articles)\n",
        "uni_sim = cosine_similarity(uni_matrix)\n",
        "def recommend_articles(x):\n",
        "    return \", \".join(df[\"Title\"].loc[x.argsort()[-5:-1]])    \n",
        "df[\"Recommended Articles\"] = [recommend_articles(x) for x in uni_sim]\n",
        "df.head()"
      ],
      "metadata": {
        "colab": {
          "base_uri": "https://localhost:8080/",
          "height": 206
        },
        "id": "Aq8sCRKqRkq1",
        "outputId": "becd4933-af4c-492c-8b89-d20fd477c6b2"
      },
      "execution_count": 6,
      "outputs": [
        {
          "output_type": "execute_result",
          "data": {
            "text/plain": [
              "                                             Article  \\\n",
              "0  Data analysis is the process of inspecting and...   \n",
              "1  The performance of a machine learning algorith...   \n",
              "2  You must have seen the news divided into categ...   \n",
              "3  When there are only two classes in a classific...   \n",
              "4  The Multinomial Naive Bayes is one of the vari...   \n",
              "\n",
              "                                               Title  \\\n",
              "0                  Best Books to Learn Data Analysis   \n",
              "1         Assumptions of Machine Learning Algorithms   \n",
              "2          News Classification with Machine Learning   \n",
              "3  Multiclass Classification Algorithms in Machin...   \n",
              "4        Multinomial Naive Bayes in Machine Learning   \n",
              "\n",
              "                                Recommended Articles  \n",
              "0  Introduction to Recommendation Systems, Best B...  \n",
              "1  Applications of Deep Learning, Best Books to L...  \n",
              "2  Language Detection with Machine Learning, Appl...  \n",
              "3  Assumptions of Machine Learning Algorithms, Be...  \n",
              "4  Assumptions of Machine Learning Algorithms, Me...  "
            ],
            "text/html": [
              "\n",
              "  <div id=\"df-f262ab0c-fbbb-4e91-a1bd-0fdfdbedae65\">\n",
              "    <div class=\"colab-df-container\">\n",
              "      <div>\n",
              "<style scoped>\n",
              "    .dataframe tbody tr th:only-of-type {\n",
              "        vertical-align: middle;\n",
              "    }\n",
              "\n",
              "    .dataframe tbody tr th {\n",
              "        vertical-align: top;\n",
              "    }\n",
              "\n",
              "    .dataframe thead th {\n",
              "        text-align: right;\n",
              "    }\n",
              "</style>\n",
              "<table border=\"1\" class=\"dataframe\">\n",
              "  <thead>\n",
              "    <tr style=\"text-align: right;\">\n",
              "      <th></th>\n",
              "      <th>Article</th>\n",
              "      <th>Title</th>\n",
              "      <th>Recommended Articles</th>\n",
              "    </tr>\n",
              "  </thead>\n",
              "  <tbody>\n",
              "    <tr>\n",
              "      <th>0</th>\n",
              "      <td>Data analysis is the process of inspecting and...</td>\n",
              "      <td>Best Books to Learn Data Analysis</td>\n",
              "      <td>Introduction to Recommendation Systems, Best B...</td>\n",
              "    </tr>\n",
              "    <tr>\n",
              "      <th>1</th>\n",
              "      <td>The performance of a machine learning algorith...</td>\n",
              "      <td>Assumptions of Machine Learning Algorithms</td>\n",
              "      <td>Applications of Deep Learning, Best Books to L...</td>\n",
              "    </tr>\n",
              "    <tr>\n",
              "      <th>2</th>\n",
              "      <td>You must have seen the news divided into categ...</td>\n",
              "      <td>News Classification with Machine Learning</td>\n",
              "      <td>Language Detection with Machine Learning, Appl...</td>\n",
              "    </tr>\n",
              "    <tr>\n",
              "      <th>3</th>\n",
              "      <td>When there are only two classes in a classific...</td>\n",
              "      <td>Multiclass Classification Algorithms in Machin...</td>\n",
              "      <td>Assumptions of Machine Learning Algorithms, Be...</td>\n",
              "    </tr>\n",
              "    <tr>\n",
              "      <th>4</th>\n",
              "      <td>The Multinomial Naive Bayes is one of the vari...</td>\n",
              "      <td>Multinomial Naive Bayes in Machine Learning</td>\n",
              "      <td>Assumptions of Machine Learning Algorithms, Me...</td>\n",
              "    </tr>\n",
              "  </tbody>\n",
              "</table>\n",
              "</div>\n",
              "      <button class=\"colab-df-convert\" onclick=\"convertToInteractive('df-f262ab0c-fbbb-4e91-a1bd-0fdfdbedae65')\"\n",
              "              title=\"Convert this dataframe to an interactive table.\"\n",
              "              style=\"display:none;\">\n",
              "        \n",
              "  <svg xmlns=\"http://www.w3.org/2000/svg\" height=\"24px\"viewBox=\"0 0 24 24\"\n",
              "       width=\"24px\">\n",
              "    <path d=\"M0 0h24v24H0V0z\" fill=\"none\"/>\n",
              "    <path d=\"M18.56 5.44l.94 2.06.94-2.06 2.06-.94-2.06-.94-.94-2.06-.94 2.06-2.06.94zm-11 1L8.5 8.5l.94-2.06 2.06-.94-2.06-.94L8.5 2.5l-.94 2.06-2.06.94zm10 10l.94 2.06.94-2.06 2.06-.94-2.06-.94-.94-2.06-.94 2.06-2.06.94z\"/><path d=\"M17.41 7.96l-1.37-1.37c-.4-.4-.92-.59-1.43-.59-.52 0-1.04.2-1.43.59L10.3 9.45l-7.72 7.72c-.78.78-.78 2.05 0 2.83L4 21.41c.39.39.9.59 1.41.59.51 0 1.02-.2 1.41-.59l7.78-7.78 2.81-2.81c.8-.78.8-2.07 0-2.86zM5.41 20L4 18.59l7.72-7.72 1.47 1.35L5.41 20z\"/>\n",
              "  </svg>\n",
              "      </button>\n",
              "      \n",
              "  <style>\n",
              "    .colab-df-container {\n",
              "      display:flex;\n",
              "      flex-wrap:wrap;\n",
              "      gap: 12px;\n",
              "    }\n",
              "\n",
              "    .colab-df-convert {\n",
              "      background-color: #E8F0FE;\n",
              "      border: none;\n",
              "      border-radius: 50%;\n",
              "      cursor: pointer;\n",
              "      display: none;\n",
              "      fill: #1967D2;\n",
              "      height: 32px;\n",
              "      padding: 0 0 0 0;\n",
              "      width: 32px;\n",
              "    }\n",
              "\n",
              "    .colab-df-convert:hover {\n",
              "      background-color: #E2EBFA;\n",
              "      box-shadow: 0px 1px 2px rgba(60, 64, 67, 0.3), 0px 1px 3px 1px rgba(60, 64, 67, 0.15);\n",
              "      fill: #174EA6;\n",
              "    }\n",
              "\n",
              "    [theme=dark] .colab-df-convert {\n",
              "      background-color: #3B4455;\n",
              "      fill: #D2E3FC;\n",
              "    }\n",
              "\n",
              "    [theme=dark] .colab-df-convert:hover {\n",
              "      background-color: #434B5C;\n",
              "      box-shadow: 0px 1px 3px 1px rgba(0, 0, 0, 0.15);\n",
              "      filter: drop-shadow(0px 1px 2px rgba(0, 0, 0, 0.3));\n",
              "      fill: #FFFFFF;\n",
              "    }\n",
              "  </style>\n",
              "\n",
              "      <script>\n",
              "        const buttonEl =\n",
              "          document.querySelector('#df-f262ab0c-fbbb-4e91-a1bd-0fdfdbedae65 button.colab-df-convert');\n",
              "        buttonEl.style.display =\n",
              "          google.colab.kernel.accessAllowed ? 'block' : 'none';\n",
              "\n",
              "        async function convertToInteractive(key) {\n",
              "          const element = document.querySelector('#df-f262ab0c-fbbb-4e91-a1bd-0fdfdbedae65');\n",
              "          const dataTable =\n",
              "            await google.colab.kernel.invokeFunction('convertToInteractive',\n",
              "                                                     [key], {});\n",
              "          if (!dataTable) return;\n",
              "\n",
              "          const docLinkHtml = 'Like what you see? Visit the ' +\n",
              "            '<a target=\"_blank\" href=https://colab.research.google.com/notebooks/data_table.ipynb>data table notebook</a>'\n",
              "            + ' to learn more about interactive tables.';\n",
              "          element.innerHTML = '';\n",
              "          dataTable['output_type'] = 'display_data';\n",
              "          await google.colab.output.renderOutput(dataTable, element);\n",
              "          const docLink = document.createElement('div');\n",
              "          docLink.innerHTML = docLinkHtml;\n",
              "          element.appendChild(docLink);\n",
              "        }\n",
              "      </script>\n",
              "    </div>\n",
              "  </div>\n",
              "  "
            ]
          },
          "metadata": {},
          "execution_count": 6
        }
      ]
    },
    {
      "cell_type": "markdown",
      "source": [
        "As you can see from the output above, a new column has been added to the dataset that contains the titles of all the recommended articles. Now let’s see all the recommendations for an article"
      ],
      "metadata": {
        "id": "7OJH-DkSR9ru"
      }
    },
    {
      "cell_type": "code",
      "source": [
        "print(df[\"Recommended Articles\"][22])"
      ],
      "metadata": {
        "colab": {
          "base_uri": "https://localhost:8080/"
        },
        "id": "Kp27WoDWSDrI",
        "outputId": "6c267551-6d96-46da-98a4-27ea51aebf52"
      },
      "execution_count": 7,
      "outputs": [
        {
          "output_type": "stream",
          "name": "stdout",
          "text": [
            "BIRCH Clustering in Machine Learning, Clustering Algorithms in Machine Learning, DBSCAN Clustering in Machine Learning, K-Means Clustering in Machine Learning\n"
          ]
        }
      ]
    },
    {
      "cell_type": "markdown",
      "source": [
        "Index 22 contains an article on “agglomerated clustering”, and all the recommended articles are also based on the concepts of clustering, so we can say that this recommender system can also give great results in real-time."
      ],
      "metadata": {
        "id": "p7HiVEyjSLob"
      }
    },
    {
      "cell_type": "markdown",
      "source": [
        "**SUMMARY**"
      ],
      "metadata": {
        "id": "6hiwEhkqSRWt"
      }
    },
    {
      "cell_type": "markdown",
      "source": [
        "So this is how you can build an articles recommendation system. A lot of websites today uses a recommendation system to recommend articles to their readers."
      ],
      "metadata": {
        "id": "k4UdkiWwSTdJ"
      }
    }
  ]
}